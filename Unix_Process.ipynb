{
  "nbformat": 4,
  "nbformat_minor": 0,
  "metadata": {
    "colab": {
      "provenance": [],
      "authorship_tag": "ABX9TyNcMyQ9Cs/+7yigwXYa1b21",
      "include_colab_link": true
    },
    "kernelspec": {
      "name": "python3",
      "display_name": "Python 3"
    },
    "language_info": {
      "name": "python"
    }
  },
  "cells": [
    {
      "cell_type": "markdown",
      "metadata": {
        "id": "view-in-github",
        "colab_type": "text"
      },
      "source": [
        "<a href=\"https://colab.research.google.com/github/1nf1n1tee/CSE_321_Operating-Systems/blob/main/Unix_Process.ipynb\" target=\"_parent\"><img src=\"https://colab.research.google.com/assets/colab-badge.svg\" alt=\"Open In Colab\"/></a>"
      ]
    },
    {
      "cell_type": "code",
      "source": [
        "!apt install gcc"
      ],
      "metadata": {
        "id": "N3leDzyqAn2I",
        "outputId": "dd745a6b-4657-42f9-fd7c-bb7e30169af2",
        "colab": {
          "base_uri": "https://localhost:8080/"
        }
      },
      "execution_count": null,
      "outputs": [
        {
          "output_type": "stream",
          "name": "stdout",
          "text": [
            "Reading package lists... Done\n",
            "Building dependency tree... Done\n",
            "Reading state information... Done\n",
            "gcc is already the newest version (4:11.2.0-1ubuntu1).\n",
            "gcc set to manually installed.\n",
            "0 upgraded, 0 newly installed, 0 to remove and 34 not upgraded.\n"
          ]
        }
      ]
    },
    {
      "cell_type": "code",
      "execution_count": 5,
      "metadata": {
        "id": "Ax94Cgp4AmZ8",
        "colab": {
          "base_uri": "https://localhost:8080/"
        },
        "outputId": "94853859-0231-458a-f9bb-20ea43824a35"
      },
      "outputs": [
        {
          "output_type": "stream",
          "name": "stdout",
          "text": [
            "Writing pid.c\n"
          ]
        }
      ],
      "source": [
        "%%writefile pid.c\n",
        "#include <stdio.h>\n",
        "#include <stdlib.h>\n",
        "#include <sys/types.h>\n",
        "#include <unistd.h>\n",
        "\n",
        "#define OFFSET\n",
        "\n",
        "int main(){\n",
        "    pid_t pid = getpid();\n",
        "    pid_t parent = getppid();\n",
        "\n",
        "    printf(\"My pid is %d \\nMy parents pid is %d\\n\",OFFSET+pid,OFFSET+parent);\n",
        "    return 0;\n",
        "}"
      ]
    },
    {
      "cell_type": "code",
      "source": [
        "!gcc pid.c -o pid\n",
        "\n",
        "!./pid"
      ],
      "metadata": {
        "colab": {
          "base_uri": "https://localhost:8080/"
        },
        "id": "YF4-64opItT-",
        "outputId": "9fe5fbb0-2913-4258-963d-36f60588b60a"
      },
      "execution_count": 11,
      "outputs": [
        {
          "output_type": "stream",
          "name": "stdout",
          "text": [
            "My pid is 9199 \n",
            "My parents pid is 508\n"
          ]
        }
      ]
    }
  ]
}