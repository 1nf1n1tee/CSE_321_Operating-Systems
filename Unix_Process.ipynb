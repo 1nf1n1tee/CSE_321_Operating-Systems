{
  "nbformat": 4,
  "nbformat_minor": 0,
  "metadata": {
    "colab": {
      "provenance": [],
      "authorship_tag": "ABX9TyP9oF9/WEIiApxVK7ZP7cLS",
      "include_colab_link": true
    },
    "kernelspec": {
      "name": "python3",
      "display_name": "Python 3"
    },
    "language_info": {
      "name": "python"
    }
  },
  "cells": [
    {
      "cell_type": "markdown",
      "metadata": {
        "id": "view-in-github",
        "colab_type": "text"
      },
      "source": [
        "<a href=\"https://colab.research.google.com/github/1nf1n1tee/CSE_321_Operating-Systems/blob/fork-tweaking/Unix_Process.ipynb\" target=\"_parent\"><img src=\"https://colab.research.google.com/assets/colab-badge.svg\" alt=\"Open In Colab\"/></a>"
      ]
    },
    {
      "cell_type": "code",
      "source": [
        "!apt install gcc"
      ],
      "metadata": {
        "id": "N3leDzyqAn2I",
        "outputId": "dd745a6b-4657-42f9-fd7c-bb7e30169af2",
        "colab": {
          "base_uri": "https://localhost:8080/"
        }
      },
      "execution_count": null,
      "outputs": [
        {
          "output_type": "stream",
          "name": "stdout",
          "text": [
            "Reading package lists... Done\n",
            "Building dependency tree... Done\n",
            "Reading state information... Done\n",
            "gcc is already the newest version (4:11.2.0-1ubuntu1).\n",
            "gcc set to manually installed.\n",
            "0 upgraded, 0 newly installed, 0 to remove and 34 not upgraded.\n"
          ]
        }
      ]
    },
    {
      "cell_type": "code",
      "execution_count": null,
      "metadata": {
        "id": "Ax94Cgp4AmZ8",
        "colab": {
          "base_uri": "https://localhost:8080/"
        },
        "outputId": "94853859-0231-458a-f9bb-20ea43824a35"
      },
      "outputs": [
        {
          "output_type": "stream",
          "name": "stdout",
          "text": [
            "Writing pid.c\n"
          ]
        }
      ],
      "source": [
        "%%writefile pid.c\n",
        "#include <stdio.h>\n",
        "#include <stdlib.h>\n",
        "#include <sys/types.h>\n",
        "#include <unistd.h>\n",
        "\n",
        "#define OFFSET\n",
        "\n",
        "int main(){\n",
        "    pid_t pid = getpid();\n",
        "    pid_t parent = getppid();\n",
        "\n",
        "    printf(\"My pid is %d \\nMy parents pid is %d\\n\",OFFSET+pid,OFFSET+parent);\n",
        "    return 0;\n",
        "}"
      ]
    },
    {
      "cell_type": "code",
      "source": [
        "!gcc pid.c -o pid\n",
        "\n",
        "!./pid"
      ],
      "metadata": {
        "colab": {
          "base_uri": "https://localhost:8080/"
        },
        "id": "YF4-64opItT-",
        "outputId": "9fe5fbb0-2913-4258-963d-36f60588b60a"
      },
      "execution_count": null,
      "outputs": [
        {
          "output_type": "stream",
          "name": "stdout",
          "text": [
            "My pid is 9199 \n",
            "My parents pid is 508\n"
          ]
        }
      ]
    },
    {
      "cell_type": "markdown",
      "source": [
        "#Fork System Call\n"
      ],
      "metadata": {
        "id": "cvmpKtdOKW1a"
      }
    },
    {
      "cell_type": "code",
      "source": [
        "%%writefile fork.c\n",
        "#include <stdio.h>\n",
        "#include <stdlib.h>\n",
        "#include <sys/types.h>\n",
        "#include <unistd.h>\n",
        "\n",
        "int main(){\n",
        "    pid_t pid = fork();\n",
        "\n",
        "    printf(\"My return value is %d\\n\",getpid());\n",
        "    printf(\"My pid is %d\\n\",pid);\n",
        "    printf(\"My parent is %d\\n\",getppid());\n",
        "    return 0;\n",
        "}\n"
      ],
      "metadata": {
        "colab": {
          "base_uri": "https://localhost:8080/"
        },
        "id": "OL5r-W8jKZmv",
        "outputId": "339f3242-eaea-45b0-f4d9-e867555f2f9a"
      },
      "execution_count": 37,
      "outputs": [
        {
          "output_type": "stream",
          "name": "stdout",
          "text": [
            "Overwriting fork.c\n"
          ]
        }
      ]
    },
    {
      "cell_type": "code",
      "source": [
        "!gcc fork.c -o f\n",
        "!./f"
      ],
      "metadata": {
        "colab": {
          "base_uri": "https://localhost:8080/"
        },
        "id": "UjY6tSRkKoqu",
        "outputId": "37ce7168-a37b-4c4b-9a0c-4da0f7e6148b"
      },
      "execution_count": 38,
      "outputs": [
        {
          "output_type": "stream",
          "name": "stdout",
          "text": [
            "My return value is 14855\n",
            "My pid is 14856\n",
            "My parent is 508\n",
            "My return value is 14856\n",
            "My pid is 0\n",
            "My parent is 1\n"
          ]
        }
      ]
    },
    {
      "cell_type": "code",
      "source": [
        "%%writefile fork2.c\n",
        "#include <stdio.h>\n",
        "#include <stdlib.h>\n",
        "#include <sys/types.h>\n",
        "#include <unistd.h>\n",
        "\n",
        "int main(){\n",
        "    pid_t pid = fork();\n",
        "    if(pid<0){\n",
        "      printf(\"Fork failed\\n\");\n",
        "    }\n",
        "    else if(pid==0){\n",
        "      printf(\"I am child %d\\n\",pid);\n",
        "      printf(\"My return is %d\\n\",getpid());\n",
        "      printf(\"My parent id is %d\\n\",getppid());\n",
        "    }\n",
        "    else{\n",
        "      printf(\"Parent\\n\");\n",
        "      printf(\"My Pid is %d\\n\",pid);\n",
        "      printf(\"My return is %d\\n\",getpid());\n",
        "      printf(\"My parent id is %d\\n\",getppid());\n",
        "    }\n",
        "    return 0;\n",
        "}\n"
      ],
      "metadata": {
        "colab": {
          "base_uri": "https://localhost:8080/"
        },
        "id": "dzJOfIC9Kt02",
        "outputId": "608db465-06b6-4122-c9d8-9415987e6a09"
      },
      "execution_count": 42,
      "outputs": [
        {
          "output_type": "stream",
          "name": "stdout",
          "text": [
            "Overwriting fork2.c\n"
          ]
        }
      ]
    },
    {
      "cell_type": "code",
      "source": [
        "!gcc fork2.c -o f\n",
        "!./f"
      ],
      "metadata": {
        "colab": {
          "base_uri": "https://localhost:8080/"
        },
        "id": "yG2dBTGYPEOT",
        "outputId": "aa421720-5c2a-4022-f400-be0c532a26c2"
      },
      "execution_count": 43,
      "outputs": [
        {
          "output_type": "stream",
          "name": "stdout",
          "text": [
            "Parent\n",
            "My Pid is 15839\n",
            "My return is 15838\n",
            "My parent id is 508\n",
            "I am child 0\n",
            "My return is 15839\n",
            "My parent id is 1\n"
          ]
        }
      ]
    },
    {
      "cell_type": "code",
      "source": [],
      "metadata": {
        "id": "4ourLEuXPElm"
      },
      "execution_count": null,
      "outputs": []
    }
  ]
}